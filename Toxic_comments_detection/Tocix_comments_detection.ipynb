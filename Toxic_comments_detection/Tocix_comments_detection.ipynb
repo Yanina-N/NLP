{
 "cells": [
  {
   "cell_type": "markdown",
   "id": "bbc29a56",
   "metadata": {},
   "source": [
    "# Проект для «Викишоп»\n",
    "\n",
    "Интернет-магазин запускает новый сервис - пользователи могут редактировать и дополнять описания товаров, как в вики-сообществах. Клиенты предлагают свои правки и комментируют изменения других. Интернет-магазину нужен инструмент, который будет искать токсичные комментарии и отправлять их на модерацию.\n",
    "\n",
    "**Цель проекта** - обучить модель классифицировать комментарии на позитивные и негативные. \n",
    "\n",
    "Данные находятся в файле toxic_comments.csv. Столбец *'text'* содержит текст комментариев, а *'toxic'* — целевой признак"
   ]
  },
  {
   "cell_type": "markdown",
   "id": "f3131f8b",
   "metadata": {},
   "source": [
    "# Подготовка"
   ]
  },
  {
   "cell_type": "markdown",
   "id": "78660b3a",
   "metadata": {},
   "source": [
    "Загрузим необходимые библиотеки:"
   ]
  },
  {
   "cell_type": "code",
   "execution_count": 1,
   "id": "5c069fd1",
   "metadata": {},
   "outputs": [],
   "source": [
    "import pandas as pd\n",
    "\n",
    "import re, nltk\n",
    "from nltk.corpus import stopwords\n",
    "from nltk.stem import WordNetLemmatizer \n",
    "\n",
    "from sklearn.feature_extraction.text import TfidfVectorizer\n",
    "from sklearn.model_selection import train_test_split, cross_val_score, GridSearchCV\n",
    "from sklearn.metrics import recall_score, precision_score, f1_score, confusion_matrix\n",
    "from sklearn.linear_model import LogisticRegression, SGDClassifier\n",
    "from catboost import CatBoostClassifier\n",
    "\n",
    "import  matplotlib.pyplot as plt\n",
    "import seaborn as sns\n",
    "sns.set_style('darkgrid')\n",
    "\n",
    "import warnings\n",
    "warnings.simplefilter(action='ignore', category=UserWarning)\n",
    "warnings.simplefilter(action='ignore', category=FutureWarning)"
   ]
  },
  {
   "cell_type": "markdown",
   "id": "18dfb4a8",
   "metadata": {},
   "source": [
    "Загрузим и прочитаем файл:"
   ]
  },
  {
   "cell_type": "code",
   "execution_count": 2,
   "id": "9871e7c7",
   "metadata": {},
   "outputs": [],
   "source": [
    "data = pd.read_csv('toxic_comments.csv')"
   ]
  },
  {
   "cell_type": "code",
   "execution_count": 3,
   "id": "70bf51af",
   "metadata": {},
   "outputs": [
    {
     "data": {
      "text/html": [
       "<div>\n",
       "<style scoped>\n",
       "    .dataframe tbody tr th:only-of-type {\n",
       "        vertical-align: middle;\n",
       "    }\n",
       "\n",
       "    .dataframe tbody tr th {\n",
       "        vertical-align: top;\n",
       "    }\n",
       "\n",
       "    .dataframe thead th {\n",
       "        text-align: right;\n",
       "    }\n",
       "</style>\n",
       "<table border=\"1\" class=\"dataframe\">\n",
       "  <thead>\n",
       "    <tr style=\"text-align: right;\">\n",
       "      <th></th>\n",
       "      <th>text</th>\n",
       "      <th>toxic</th>\n",
       "    </tr>\n",
       "  </thead>\n",
       "  <tbody>\n",
       "    <tr>\n",
       "      <th>0</th>\n",
       "      <td>Explanation\\nWhy the edits made under my usern...</td>\n",
       "      <td>0</td>\n",
       "    </tr>\n",
       "    <tr>\n",
       "      <th>1</th>\n",
       "      <td>D'aww! He matches this background colour I'm s...</td>\n",
       "      <td>0</td>\n",
       "    </tr>\n",
       "    <tr>\n",
       "      <th>2</th>\n",
       "      <td>Hey man, I'm really not trying to edit war. It...</td>\n",
       "      <td>0</td>\n",
       "    </tr>\n",
       "    <tr>\n",
       "      <th>3</th>\n",
       "      <td>\"\\nMore\\nI can't make any real suggestions on ...</td>\n",
       "      <td>0</td>\n",
       "    </tr>\n",
       "    <tr>\n",
       "      <th>4</th>\n",
       "      <td>You, sir, are my hero. Any chance you remember...</td>\n",
       "      <td>0</td>\n",
       "    </tr>\n",
       "  </tbody>\n",
       "</table>\n",
       "</div>"
      ],
      "text/plain": [
       "                                                text  toxic\n",
       "0  Explanation\\nWhy the edits made under my usern...      0\n",
       "1  D'aww! He matches this background colour I'm s...      0\n",
       "2  Hey man, I'm really not trying to edit war. It...      0\n",
       "3  \"\\nMore\\nI can't make any real suggestions on ...      0\n",
       "4  You, sir, are my hero. Any chance you remember...      0"
      ]
     },
     "execution_count": 3,
     "metadata": {},
     "output_type": "execute_result"
    }
   ],
   "source": [
    "data.head()"
   ]
  },
  {
   "cell_type": "code",
   "execution_count": 4,
   "id": "6c552bd8",
   "metadata": {},
   "outputs": [
    {
     "name": "stdout",
     "output_type": "stream",
     "text": [
      "<class 'pandas.core.frame.DataFrame'>\n",
      "RangeIndex: 159571 entries, 0 to 159570\n",
      "Data columns (total 2 columns):\n",
      " #   Column  Non-Null Count   Dtype \n",
      "---  ------  --------------   ----- \n",
      " 0   text    159571 non-null  object\n",
      " 1   toxic   159571 non-null  int64 \n",
      "dtypes: int64(1), object(1)\n",
      "memory usage: 2.4+ MB\n"
     ]
    }
   ],
   "source": [
    "data.info()"
   ]
  },
  {
   "cell_type": "code",
   "execution_count": 5,
   "id": "32c2f0da",
   "metadata": {},
   "outputs": [
    {
     "data": {
      "text/html": [
       "<div>\n",
       "<style scoped>\n",
       "    .dataframe tbody tr th:only-of-type {\n",
       "        vertical-align: middle;\n",
       "    }\n",
       "\n",
       "    .dataframe tbody tr th {\n",
       "        vertical-align: top;\n",
       "    }\n",
       "\n",
       "    .dataframe thead th {\n",
       "        text-align: right;\n",
       "    }\n",
       "</style>\n",
       "<table border=\"1\" class=\"dataframe\">\n",
       "  <thead>\n",
       "    <tr style=\"text-align: right;\">\n",
       "      <th></th>\n",
       "      <th>text</th>\n",
       "      <th>toxic</th>\n",
       "    </tr>\n",
       "  </thead>\n",
       "  <tbody>\n",
       "    <tr>\n",
       "      <th>100</th>\n",
       "      <td>However, the Moonlite edit noted by golden dap...</td>\n",
       "      <td>0</td>\n",
       "    </tr>\n",
       "    <tr>\n",
       "      <th>1000</th>\n",
       "      <td>Rex Mundi \\n\\nI've created a stub on Rex Mundi...</td>\n",
       "      <td>0</td>\n",
       "    </tr>\n",
       "    <tr>\n",
       "      <th>10000</th>\n",
       "      <td>Hi RedRose and apologies for delay. Here is a ...</td>\n",
       "      <td>0</td>\n",
       "    </tr>\n",
       "  </tbody>\n",
       "</table>\n",
       "</div>"
      ],
      "text/plain": [
       "                                                    text  toxic\n",
       "100    However, the Moonlite edit noted by golden dap...      0\n",
       "1000   Rex Mundi \\n\\nI've created a stub on Rex Mundi...      0\n",
       "10000  Hi RedRose and apologies for delay. Here is a ...      0"
      ]
     },
     "execution_count": 5,
     "metadata": {},
     "output_type": "execute_result"
    }
   ],
   "source": [
    "data.iloc[[100, 1000, 10000]]"
   ]
  },
  {
   "cell_type": "markdown",
   "id": "a8110777",
   "metadata": {},
   "source": [
    "У нас два столбца с объектным и целочисленным типам данных. Пропусков нет.\n",
    "\n",
    "Посмотрим на соотношения \"позитивных\" и \"негативных\" комментариев:"
   ]
  },
  {
   "cell_type": "code",
   "execution_count": 6,
   "id": "f5f1d57d",
   "metadata": {},
   "outputs": [
    {
     "name": "stdout",
     "output_type": "stream",
     "text": [
      "0    143346\n",
      "1     16225\n",
      "Name: toxic, dtype: int64 \n",
      "\n"
     ]
    },
    {
     "data": {
      "image/png": "[encoded data removed]",
      "text/plain": [
       "<Figure size 360x360 with 1 Axes>"
      ]
     },
     "metadata": {},
     "output_type": "display_data"
    }
   ],
   "source": [
    "# toxic and non-toxic comments\n",
    "\n",
    "ratio = data['toxic'].value_counts()\n",
    "print(ratio, '\\n')\n",
    "\n",
    "plt.figure(figsize=(5,5))\n",
    "plt.title('Доля токсичных и нетоксичных комментариев', fontsize=14, color='black')\n",
    "\n",
    "labels=['NON-TOXIC', 'TOXIC']\n",
    "ratio.plot(kind='pie', startangle=90, textprops={'fontsize': 14},\n",
    "           labels=labels, autopct = '%0.0f%%', colors = ['blue', 'yellow'])\n",
    "plt.ylabel('');"
   ]
  },
  {
   "cell_type": "markdown",
   "id": "7a805805",
   "metadata": {},
   "source": [
    "10% комментариев токсичные и 90% нет. Классы несбалансированы - учтем это при разбиение датасета на выборки и используем параметр stratify=y.\n",
    "\n",
    "Приступим к подготовке данных.\n",
    "\n",
    "Очистим и лемматизируем текст:"
   ]
  },
  {
   "cell_type": "code",
   "execution_count": 7,
   "id": "34709c9a",
   "metadata": {},
   "outputs": [],
   "source": [
    "lemmatizer = WordNetLemmatizer()\n",
    "stop_words = set(stopwords.words('english'))\n",
    "\n",
    "def prepocessed(text):\n",
    "    text = text.lower()\n",
    "    text = re.sub(r'[^\\w\\s]', ' ', text)\n",
    "    text = ''.join(lemmatizer.lemmatize(text))\n",
    "    \n",
    "    final_sent = []\n",
    "    for i in text.split():\n",
    "        if i.strip() not in stop_words:\n",
    "            final_sent.append(i.strip())\n",
    "    return ' '.join(final_sent)\n",
    "    "
   ]
  },
  {
   "cell_type": "code",
   "execution_count": 8,
   "id": "df4e4222",
   "metadata": {},
   "outputs": [],
   "source": [
    "data['lemm_text'] = data['text'].apply(prepocessed)"
   ]
  },
  {
   "cell_type": "code",
   "execution_count": 9,
   "id": "26e9c597",
   "metadata": {},
   "outputs": [
    {
     "data": {
      "text/html": [
       "<div>\n",
       "<style scoped>\n",
       "    .dataframe tbody tr th:only-of-type {\n",
       "        vertical-align: middle;\n",
       "    }\n",
       "\n",
       "    .dataframe tbody tr th {\n",
       "        vertical-align: top;\n",
       "    }\n",
       "\n",
       "    .dataframe thead th {\n",
       "        text-align: right;\n",
       "    }\n",
       "</style>\n",
       "<table border=\"1\" class=\"dataframe\">\n",
       "  <thead>\n",
       "    <tr style=\"text-align: right;\">\n",
       "      <th></th>\n",
       "      <th>text</th>\n",
       "      <th>toxic</th>\n",
       "      <th>lemm_text</th>\n",
       "    </tr>\n",
       "  </thead>\n",
       "  <tbody>\n",
       "    <tr>\n",
       "      <th>0</th>\n",
       "      <td>Explanation\\nWhy the edits made under my usern...</td>\n",
       "      <td>0</td>\n",
       "      <td>explanation edits made username hardcore metal...</td>\n",
       "    </tr>\n",
       "    <tr>\n",
       "      <th>1</th>\n",
       "      <td>D'aww! He matches this background colour I'm s...</td>\n",
       "      <td>0</td>\n",
       "      <td>aww matches background colour seemingly stuck ...</td>\n",
       "    </tr>\n",
       "    <tr>\n",
       "      <th>2</th>\n",
       "      <td>Hey man, I'm really not trying to edit war. It...</td>\n",
       "      <td>0</td>\n",
       "      <td>hey man really trying edit war guy constantly ...</td>\n",
       "    </tr>\n",
       "    <tr>\n",
       "      <th>3</th>\n",
       "      <td>\"\\nMore\\nI can't make any real suggestions on ...</td>\n",
       "      <td>0</td>\n",
       "      <td>make real suggestions improvement wondered sec...</td>\n",
       "    </tr>\n",
       "    <tr>\n",
       "      <th>4</th>\n",
       "      <td>You, sir, are my hero. Any chance you remember...</td>\n",
       "      <td>0</td>\n",
       "      <td>sir hero chance remember page</td>\n",
       "    </tr>\n",
       "  </tbody>\n",
       "</table>\n",
       "</div>"
      ],
      "text/plain": [
       "                                                text  toxic  \\\n",
       "0  Explanation\\nWhy the edits made under my usern...      0   \n",
       "1  D'aww! He matches this background colour I'm s...      0   \n",
       "2  Hey man, I'm really not trying to edit war. It...      0   \n",
       "3  \"\\nMore\\nI can't make any real suggestions on ...      0   \n",
       "4  You, sir, are my hero. Any chance you remember...      0   \n",
       "\n",
       "                                           lemm_text  \n",
       "0  explanation edits made username hardcore metal...  \n",
       "1  aww matches background colour seemingly stuck ...  \n",
       "2  hey man really trying edit war guy constantly ...  \n",
       "3  make real suggestions improvement wondered sec...  \n",
       "4                      sir hero chance remember page  "
      ]
     },
     "execution_count": 9,
     "metadata": {},
     "output_type": "execute_result"
    }
   ],
   "source": [
    "data.head()"
   ]
  },
  {
   "cell_type": "markdown",
   "id": "0e2c4bb8",
   "metadata": {},
   "source": [
    "# Вывод"
   ]
  },
  {
   "cell_type": "markdown",
   "id": "7661fa09",
   "metadata": {},
   "source": [
    "Мы произвели чтение и загрузку данных. Подготовили данные для обучения: лемматизировали и очистили комментарии, добавили столбец обработанного текста в таблицу.\n",
    "\n",
    "Можем приступать к обучению."
   ]
  },
  {
   "cell_type": "markdown",
   "id": "70a4d37b",
   "metadata": {},
   "source": [
    "# Обучение"
   ]
  },
  {
   "cell_type": "markdown",
   "id": "7efc9cd1",
   "metadata": {},
   "source": [
    "# Подготовка к обучению"
   ]
  },
  {
   "cell_type": "markdown",
   "id": "15bf69f1",
   "metadata": {},
   "source": [
    "Подготовим данные для обучения. Разобьем датасет на три выборки: трейн, валид и тест. \n",
    "\n",
    "Сначала обучим модель на трейне и сделаем предсказание на валиде. Выбрав лучшую модель, проверим качество предсказаний на тесте.\n",
    "\n",
    "В исследовании будем использовать 3 алгоритма:\n",
    "\n",
    "1. LogisticRegression()\n",
    "2. SGDClassifier()\n",
    "3. CatBoostClassifier()\n",
    "\n",
    "Сравним, какая из моделей покажет более высокое качество предсказаний."
   ]
  },
  {
   "cell_type": "markdown",
   "id": "12df145f",
   "metadata": {},
   "source": [
    "Выделим признак и целевой признак:"
   ]
  },
  {
   "cell_type": "code",
   "execution_count": 10,
   "id": "1e296b5a",
   "metadata": {},
   "outputs": [],
   "source": [
    "X = data['lemm_text']  \n",
    "y = data['toxic']"
   ]
  },
  {
   "cell_type": "markdown",
   "id": "b4e4a088",
   "metadata": {},
   "source": [
    "Разобьем датасет на обучающую, валидационную и тестовую выборку:"
   ]
  },
  {
   "cell_type": "code",
   "execution_count": 11,
   "id": "674c152c",
   "metadata": {},
   "outputs": [],
   "source": [
    "X_train, X_valid, y_train, y_valid = train_test_split(X, y, stratify=y, shuffle=True, test_size=0.4, random_state=0)\n",
    "X_valid, X_test, y_valid, y_test = train_test_split(X_valid, y_valid, test_size=0.5, random_state=0)"
   ]
  },
  {
   "cell_type": "markdown",
   "id": "dc40b747",
   "metadata": {},
   "source": [
    "Чтобы тестирование было честным и модель не учитывала частоты слов из валидационной/тестовой выборки, функцию fit() запустим только на обучающей выборке; конвертируем все выборки:"
   ]
  },
  {
   "cell_type": "code",
   "execution_count": 12,
   "id": "9a940f08",
   "metadata": {},
   "outputs": [
    {
     "name": "stdout",
     "output_type": "stream",
     "text": [
      "Размер обучающей выборки:  (95742, 138949)\n",
      "Размер валидационой выборки:  (31914, 138949)\n",
      "Размер тестовой выборки:  (31915, 138949)\n"
     ]
    }
   ],
   "source": [
    "tf_idf = TfidfVectorizer() \n",
    "\n",
    "X_train = tf_idf.fit_transform(X_train)\n",
    "X_valid = tf_idf.transform(X_valid)\n",
    "X_test = tf_idf.transform(X_test)\n",
    "\n",
    "print('Размер обучающей выборки: ', X_train.shape)\n",
    "print('Размер валидационой выборки: ', X_valid.shape)\n",
    "print('Размер тестовой выборки: ', X_test.shape)"
   ]
  },
  {
   "cell_type": "markdown",
   "id": "9a46831b",
   "metadata": {},
   "source": [
    "# Обучение моделей"
   ]
  },
  {
   "cell_type": "markdown",
   "id": "6d9ddfce",
   "metadata": {},
   "source": [
    "**LogisticRegression()**"
   ]
  },
  {
   "cell_type": "code",
   "execution_count": 13,
   "id": "6a3a4cbb",
   "metadata": {},
   "outputs": [
    {
     "name": "stdout",
     "output_type": "stream",
     "text": [
      "Полнота:  0.7897035881435257\n",
      "Точность:  0.7441928844457513\n",
      "F1_score:  0.766273085074175 \n",
      "\n",
      "Wall time: 10.8 s\n"
     ]
    }
   ],
   "source": [
    "%%time \n",
    "\n",
    "model_LR = LogisticRegression(C=25, class_weight='balanced', n_jobs=-1, random_state=0)\n",
    "model_LR.fit(X_train, y_train)\n",
    "preds_LR = model_LR.predict(X_valid)\n",
    "recall_LR = recall_score(y_valid, preds_LR)\n",
    "precision_LR = precision_score(y_valid, preds_LR)\n",
    "f1_LR = f1_score(y_valid, preds_LR)\n",
    "print('Полнота: ', recall_LR)\n",
    "print('Точность: ', precision_LR)\n",
    "print('F1_score: ', f1_LR, '\\n')"
   ]
  },
  {
   "cell_type": "code",
   "execution_count": 14,
   "id": "97f444ce",
   "metadata": {},
   "outputs": [
    {
     "data": {
      "image/png": "[encoded data removed]",
      "text/plain": [
       "<Figure size 432x288 with 2 Axes>"
      ]
     },
     "metadata": {},
     "output_type": "display_data"
    }
   ],
   "source": [
    "sns.heatmap(confusion_matrix(y_valid, preds_LR), fmt='3.0f', annot=True, cmap='coolwarm', annot_kws={\"size\":15})\n",
    "plt.title('Матрица ошибок: LogisticRegression', size=15)\n",
    "plt.show()"
   ]
  },
  {
   "cell_type": "markdown",
   "id": "f029de13",
   "metadata": {},
   "source": [
    "F1-мера составила 0.77. Модель с достаточно высоким уровнем точности выявляет токсичные комментарии."
   ]
  },
  {
   "cell_type": "markdown",
   "id": "7b4ca5b8",
   "metadata": {},
   "source": [
    "**SGDClassifier()**"
   ]
  },
  {
   "cell_type": "code",
   "execution_count": 15,
   "id": "5199a4bf",
   "metadata": {},
   "outputs": [
    {
     "name": "stdout",
     "output_type": "stream",
     "text": [
      "Полнота:  0.7906396255850234\n",
      "Точность:  0.7017446690667405\n",
      "F1_score:  0.7435446009389672\n"
     ]
    }
   ],
   "source": [
    "model_SGD = SGDClassifier(alpha=1e-6, class_weight='balanced', n_jobs=-1, random_state=0)\n",
    "model_SGD.fit(X_train, y_train)\n",
    "preds_SGD = model_SGD.predict(X_valid)\n",
    "recall_SGD = recall_score(y_valid, preds_SGD)\n",
    "precision_SGD = precision_score(y_valid, preds_SGD)\n",
    "f1_SGD = f1_score(y_valid, preds_SGD)\n",
    "print('Полнота: ', recall_SGD)\n",
    "print('Точность: ', precision_SGD)\n",
    "print('F1_score: ', f1_SGD)"
   ]
  },
  {
   "cell_type": "code",
   "execution_count": 16,
   "id": "4214f056",
   "metadata": {},
   "outputs": [
    {
     "data": {
      "image/png": "[encoded data removed]",
      "text/plain": [
       "<Figure size 432x288 with 2 Axes>"
      ]
     },
     "metadata": {},
     "output_type": "display_data"
    }
   ],
   "source": [
    "sns.heatmap(confusion_matrix(y_valid, preds_SGD), fmt='3.0f', annot=True, cmap='coolwarm', annot_kws={\"size\":15})\n",
    "plt.title('Матрица ошибок: SGDClassifier', size=15)\n",
    "plt.show()"
   ]
  },
  {
   "cell_type": "markdown",
   "id": "fba8591f",
   "metadata": {},
   "source": [
    "В сравнении с Логистической регрессий, точность SGDClassifier немного выше, но вот ложноотрицательных ошибок заметно больше. "
   ]
  },
  {
   "cell_type": "markdown",
   "id": "c59eacab",
   "metadata": {},
   "source": [
    "**CatBoostClassifier()**"
   ]
  },
  {
   "cell_type": "code",
   "execution_count": 17,
   "id": "387d8e45",
   "metadata": {},
   "outputs": [
    {
     "name": "stdout",
     "output_type": "stream",
     "text": [
      "Полнота:  0.6667706708268331\n",
      "Точность:  0.8561698717948718\n",
      "F1_score:  0.7496930363094194 \n",
      "\n"
     ]
    }
   ],
   "source": [
    "model_Cat = CatBoostClassifier(learning_rate=0.9, loss_function='Logloss', iterations=200, \n",
    "                               depth=4, random_state=0, verbose=False)\n",
    "model_Cat.fit(X_train, y_train)\n",
    "preds_Cat = model_Cat.predict(X_valid)\n",
    "recall_Cat = recall_score(y_valid, preds_Cat)\n",
    "precision_Cat = precision_score(y_valid, preds_Cat)\n",
    "f1_Cat = f1_score(y_valid, preds_Cat)\n",
    "print('Полнота: ', recall_Cat)\n",
    "print('Точность: ', precision_Cat)\n",
    "print('F1_score: ', f1_Cat, '\\n')"
   ]
  },
  {
   "cell_type": "code",
   "execution_count": 18,
   "id": "a83e3858",
   "metadata": {},
   "outputs": [
    {
     "data": {
      "image/png": "[encoded data removed]",
      "text/plain": [
       "<Figure size 432x288 with 2 Axes>"
      ]
     },
     "metadata": {},
     "output_type": "display_data"
    }
   ],
   "source": [
    "sns.heatmap(confusion_matrix(y_valid, preds_Cat), fmt='3.0f', annot=True, cmap='coolwarm', annot_kws={\"size\":15})\n",
    "plt.title('Матрица ошибок: CatBoostClassifier', size=15)\n",
    "plt.show()"
   ]
  },
  {
   "cell_type": "markdown",
   "id": "aa313b00",
   "metadata": {},
   "source": [
    "Catboost справляется с поставленной задачей не лучшим образом."
   ]
  },
  {
   "cell_type": "markdown",
   "id": "c2407831",
   "metadata": {},
   "source": [
    "Объединим результат в одну таблицу:"
   ]
  },
  {
   "cell_type": "code",
   "execution_count": 19,
   "id": "f01d06c1",
   "metadata": {},
   "outputs": [
    {
     "data": {
      "text/html": [
       "<div>\n",
       "<style scoped>\n",
       "    .dataframe tbody tr th:only-of-type {\n",
       "        vertical-align: middle;\n",
       "    }\n",
       "\n",
       "    .dataframe tbody tr th {\n",
       "        vertical-align: top;\n",
       "    }\n",
       "\n",
       "    .dataframe thead th {\n",
       "        text-align: right;\n",
       "    }\n",
       "</style>\n",
       "<table border=\"1\" class=\"dataframe\">\n",
       "  <thead>\n",
       "    <tr style=\"text-align: right;\">\n",
       "      <th></th>\n",
       "      <th>F1_score</th>\n",
       "      <th>Recall</th>\n",
       "      <th>Precision</th>\n",
       "    </tr>\n",
       "  </thead>\n",
       "  <tbody>\n",
       "    <tr>\n",
       "      <th>LogisticRegression</th>\n",
       "      <td>0.766273</td>\n",
       "      <td>0.789704</td>\n",
       "      <td>0.744193</td>\n",
       "    </tr>\n",
       "    <tr>\n",
       "      <th>CatBosstClassifier</th>\n",
       "      <td>0.749693</td>\n",
       "      <td>0.666771</td>\n",
       "      <td>0.856170</td>\n",
       "    </tr>\n",
       "    <tr>\n",
       "      <th>SGDClassifier</th>\n",
       "      <td>0.743545</td>\n",
       "      <td>0.790640</td>\n",
       "      <td>0.701745</td>\n",
       "    </tr>\n",
       "  </tbody>\n",
       "</table>\n",
       "</div>"
      ],
      "text/plain": [
       "                    F1_score    Recall  Precision\n",
       "LogisticRegression  0.766273  0.789704   0.744193\n",
       "CatBosstClassifier  0.749693  0.666771   0.856170\n",
       "SGDClassifier       0.743545  0.790640   0.701745"
      ]
     },
     "execution_count": 19,
     "metadata": {},
     "output_type": "execute_result"
    }
   ],
   "source": [
    "score_table = pd.DataFrame(data=[[f1_LR, recall_LR, precision_LR], \n",
    "                                 [f1_SGD, recall_SGD, precision_SGD], \n",
    "                                 [f1_Cat, recall_Cat, precision_Cat]],\n",
    "                       columns = ['F1_score', 'Recall', 'Precision'], \n",
    "                       index = ['LogisticRegression', 'SGDClassifier', 'CatBosstClassifier']).sort_values(by='F1_score', ascending=False)\n",
    "score_table"
   ]
  },
  {
   "cell_type": "markdown",
   "id": "6a154218",
   "metadata": {},
   "source": [
    "Модели демонстрируют близкие по значению результаты, но наша цель - выявить токсичный комментарий. И Логистическая регрессия справляется с этой задачей несколько лучше остальных. Именно данную модель будем использовать для тестирования."
   ]
  },
  {
   "cell_type": "markdown",
   "id": "2e253a0b",
   "metadata": {},
   "source": [
    "# Тестирование модели"
   ]
  },
  {
   "cell_type": "markdown",
   "id": "516b9330",
   "metadata": {},
   "source": [
    "Проверим модель LogisticRegression с установленными гиперпараметрами на тестовой выборке:"
   ]
  },
  {
   "cell_type": "code",
   "execution_count": 20,
   "id": "0e353621",
   "metadata": {},
   "outputs": [
    {
     "name": "stdout",
     "output_type": "stream",
     "text": [
      "Полнота:  0.7887366818873668\n",
      "Точность:  0.7385974914481186\n",
      "F1_score:  0.7628441042249375 \n",
      "\n",
      "Wall time: 50 ms\n"
     ]
    }
   ],
   "source": [
    "%%time \n",
    "\n",
    "preds_test_LR = model_LR.predict(X_test)\n",
    "recall_test_LR = recall_score(y_test, preds_test_LR)\n",
    "precision_test_LR = precision_score(y_test, preds_test_LR)\n",
    "f1_test_LR = f1_score(y_test, preds_test_LR)\n",
    "print('Полнота: ', recall_test_LR)\n",
    "print('Точность: ', precision_test_LR)\n",
    "print('F1_score: ', f1_test_LR, '\\n')"
   ]
  },
  {
   "cell_type": "code",
   "execution_count": 21,
   "id": "9e4e0070",
   "metadata": {},
   "outputs": [
    {
     "data": {
      "image/png": "[encoded data removed]",
      "text/plain": [
       "<Figure size 432x288 with 2 Axes>"
      ]
     },
     "metadata": {},
     "output_type": "display_data"
    }
   ],
   "source": [
    "sns.heatmap(confusion_matrix(y_test, preds_test_LR), fmt='3.0f', annot=True, cmap='RdYlGn', annot_kws={\"size\":15})\n",
    "plt.title('Матрица ошибок: LogisticRegression', size=15)\n",
    "plt.show()"
   ]
  },
  {
   "cell_type": "markdown",
   "id": "b03a555f",
   "metadata": {},
   "source": [
    "Неплохой результат. Число выявленных токсичных отзывов на тестовой выборке даже выше, чем на валидационной. Однако следует отметить больше ошибок при ложноположительных и ложноотрицательных ответах."
   ]
  },
  {
   "cell_type": "markdown",
   "id": "4a176d92",
   "metadata": {},
   "source": [
    "# Вывод"
   ]
  },
  {
   "cell_type": "markdown",
   "id": "cc807029",
   "metadata": {},
   "source": [
    "Мы подготовили данные для обучения и использовали несколько алгоритмов: Логистическая регрессия, метод Стохастического градиентного спуска и CatBoost. Лучше всего себя показала модель LogisticRegression, с набольшей точностью определившая число токсичных комментариев."
   ]
  },
  {
   "cell_type": "markdown",
   "id": "e42fe9fd",
   "metadata": {},
   "source": [
    "# Общий вывод"
   ]
  },
  {
   "cell_type": "markdown",
   "id": "17236c1f",
   "metadata": {},
   "source": [
    "В рамках данного проекта: \n",
    "\n",
    "1. Данные были загружены, прочитаны и обработаны (лемматизация и очистка текста);\n",
    "2. Для обучения произведена векторизация текста (создана матрица TF-IDF);\n",
    "3. Проверены несколько моделей обучения.\n",
    "\n",
    "\n",
    "В результате с помощью LogisticRegression удалось достичь значения метрики качества F1 = 0.77 на валидацинной выборке и 0.76 на тестовой. В случае определения токсичности комментариев значение точности важнее полноты - но все хорошо в меру."
   ]
  }
 ],
 "metadata": {
  "kernelspec": {
   "display_name": "Python 3 (ipykernel)",
   "language": "python",
   "name": "python3"
  },
  "language_info": {
   "codemirror_mode": {
    "name": "ipython",
    "version": 3
   },
   "file_extension": ".py",
   "mimetype": "text/x-python",
   "name": "python",
   "nbconvert_exporter": "python",
   "pygments_lexer": "ipython3",
   "version": "3.9.7"
  }
 },
 "nbformat": 4,
 "nbformat_minor": 5
}
